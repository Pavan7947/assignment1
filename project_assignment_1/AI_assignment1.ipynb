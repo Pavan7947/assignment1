{
 "cells": [
  {
   "cell_type": "code",
   "execution_count": 1,
   "id": "02860dda",
   "metadata": {},
   "outputs": [
    {
     "name": "stdout",
     "output_type": "stream",
     "text": [
      "Path found: S -> B -> E -> G\n"
     ]
    }
   ],
   "source": [
    "def dfs(graph, start, target, visited, path):\n",
    "    # Mark the vertex as visited and add to current path\n",
    "    visited[start] = True\n",
    "    path.append(start)\n",
    "\n",
    "    # If destination reached, print path\n",
    "    if start == target:\n",
    "        print(\"Path found: {}\".format(\" -> \".join(path)))\n",
    "        return\n",
    "    else:\n",
    "        # Explore all the neighbours if unvisited\n",
    "        for neighbour in graph[start]:\n",
    "            if neighbour not in visited or not visited[neighbour]:\n",
    "                dfs(graph, neighbour, target, visited, path)\n",
    "\n",
    "    # Backtrack\n",
    "    path.pop()\n",
    "    visited[start] = False\n",
    "\n",
    "\n",
    "def main():\n",
    "    # Represent given graph as adjacency list V -> [E]\n",
    "    graph = {\n",
    "        'S': ['B', 'C'],\n",
    "        'B': ['D', 'E'],\n",
    "        'C': ['F'],\n",
    "        'D': ['H'],\n",
    "        'E': ['G', 'I'],\n",
    "        'F': ['J'],\n",
    "        'G': [],\n",
    "        'H': [],\n",
    "        'I': [],\n",
    "        'J': [],\n",
    "    }\n",
    "\n",
    "    # Start and Target vertices\n",
    "    start = 'S'\n",
    "    target = 'G'\n",
    "\n",
    "    # Visited and path array\n",
    "    visited = {}\n",
    "    path = []\n",
    "\n",
    "    # Call the dfs\n",
    "    dfs(graph, start, target, visited, path)\n",
    "\n",
    "# Call the main method\n",
    "main()"
   ]
  },
  {
   "cell_type": "code",
   "execution_count": 2,
   "id": "df54269b",
   "metadata": {},
   "outputs": [
    {
     "name": "stdout",
     "output_type": "stream",
     "text": [
      "Path found: S -> B -> E -> G\n"
     ]
    }
   ],
   "source": [
    "from collections import deque\n",
    "\n",
    "def bfs(graph, start, target):\n",
    "    # Create visited and queue\n",
    "    visited = {}\n",
    "\n",
    "    # Enqueue start vertex\n",
    "    queue = deque([[start]])\n",
    "\n",
    "    # Until queue is empty\n",
    "    while queue:\n",
    "        # Pop current element\n",
    "        path = queue.popleft()\n",
    "        current = path[-1]\n",
    "\n",
    "        # print('current: {}, queue: {}, path: {}'.format(current, queue, path))\n",
    "\n",
    "        # Return if target\n",
    "        if current == target:\n",
    "            print(\"Path found: {}\".format(\" -> \".join(path)))\n",
    "            return\n",
    "\n",
    "        # If not visited, explore the neighbours\n",
    "        if current not in visited or not visited[current]:\n",
    "            for neighbour in graph[current]:\n",
    "                new_path = list(path)\n",
    "                new_path.append(neighbour)\n",
    "                queue.append(new_path)\n",
    "                visited[current] = True\n",
    "\n",
    "def main():\n",
    "    # Represent given graph as adjacency list V -> [E]\n",
    "    graph = {\n",
    "        'S': ['B', 'C'],\n",
    "        'B': ['D', 'E'],\n",
    "        'C': ['F'],\n",
    "        'D': ['H'],\n",
    "        'E': ['G', 'I'],\n",
    "        'F': ['J'],\n",
    "        'G': [],\n",
    "        'H': [],\n",
    "        'I': [],\n",
    "        'J': [],\n",
    "    }\n",
    "\n",
    "    # Start and Target vertices\n",
    "    start = 'S'\n",
    "    target = 'G'\n",
    "\n",
    "    # Call bfs\n",
    "    bfs(graph, start, target)\n",
    "\n",
    "# Call the main method\n",
    "main()"
   ]
  },
  {
   "cell_type": "code",
   "execution_count": null,
   "id": "c74078fb",
   "metadata": {},
   "outputs": [],
   "source": []
  }
 ],
 "metadata": {
  "kernelspec": {
   "display_name": "Python 3 (ipykernel)",
   "language": "python",
   "name": "python3"
  },
  "language_info": {
   "codemirror_mode": {
    "name": "ipython",
    "version": 3
   },
   "file_extension": ".py",
   "mimetype": "text/x-python",
   "name": "python",
   "nbconvert_exporter": "python",
   "pygments_lexer": "ipython3",
   "version": "3.11.4"
  }
 },
 "nbformat": 4,
 "nbformat_minor": 5
}
