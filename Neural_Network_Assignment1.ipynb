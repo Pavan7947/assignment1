{
 "cells": [
  {
   "cell_type": "code",
   "execution_count": 1,
   "id": "6e155fac",
   "metadata": {},
   "outputs": [
    {
     "name": "stdout",
     "output_type": "stream",
     "text": [
      "Enter the string 'Python': python\n",
      "Reversed Resultant String: noht\n"
     ]
    }
   ],
   "source": [
    "# Input the string \"Python\" as a list of characters from console\n",
    "input_string = list(input(\"Enter the string 'Python': \"))\n",
    "\n",
    "# Delete at least 2 characters\n",
    "if len(input_string) >= 2:\n",
    "    del input_string[:2]\n",
    "\n",
    "# Reverse the resultant string\n",
    "resultant_string = input_string[::-1]\n",
    "\n",
    "# Print the reversed resultant string\n",
    "print(\"Reversed Resultant String:\", ''.join(resultant_string))\n",
    "\n"
   ]
  },
  {
   "cell_type": "code",
   "execution_count": 2,
   "id": "f1dab02e",
   "metadata": {},
   "outputs": [
    {
     "name": "stdout",
     "output_type": "stream",
     "text": [
      "Enter the first number: 20\n",
      "Enter the second number: 5\n",
      "\n",
      "Arithmetic Operations on 20.0 and 5.0:\n",
      "Sum: 25.0\n",
      "Difference: 15.0\n",
      "Product: 100.0\n",
      "Quotient: 4.0\n"
     ]
    }
   ],
   "source": [
    "# Take two numbers from the user\n",
    "num1 = float(input(\"Enter the first number: \"))\n",
    "num2 = float(input(\"Enter the second number: \"))\n",
    "\n",
    "# Perform arithmetic operations\n",
    "sum_result = num1 + num2\n",
    "difference_result = num1 - num2\n",
    "product_result = num1 * num2\n",
    "\n",
    "# Check if the second number is not zero before performing division\n",
    "if num2 != 0:\n",
    "    quotient_result = num1 / num2\n",
    "    print(f\"\\nArithmetic Operations on {num1} and {num2}:\")\n",
    "    print(f\"Sum: {sum_result}\")\n",
    "    print(f\"Difference: {difference_result}\")\n",
    "    print(f\"Product: {product_result}\")\n",
    "    print(f\"Quotient: {quotient_result}\")\n",
    "else:\n",
    "    print(\"Cannot divide by zero.\")\n",
    "\n",
    "    "
   ]
  },
  {
   "cell_type": "code",
   "execution_count": 3,
   "id": "42b41c63",
   "metadata": {},
   "outputs": [
    {
     "name": "stdout",
     "output_type": "stream",
     "text": [
      "Enter a sentence: I love playing with python\n",
      "Modified Sentence: I love playing with pythons\n"
     ]
    }
   ],
   "source": [
    "# Input a sentence\n",
    "sentence = input(\"Enter a sentence: \")\n",
    "\n",
    "# Replace 'python' with 'pythons'\n",
    "modified_sentence = sentence.replace('python', 'pythons')\n",
    "\n",
    "# Print the modified sentence\n",
    "print(\"Modified Sentence:\", modified_sentence)\n"
   ]
  },
  {
   "cell_type": "code",
   "execution_count": 4,
   "id": "24376dce",
   "metadata": {},
   "outputs": [
    {
     "name": "stdout",
     "output_type": "stream",
     "text": [
      "Enter the class score: 85\n",
      "Letter Grade: B\n"
     ]
    }
   ],
   "source": [
    "# Input class score from the user\n",
    "class_score = float(input(\"Enter the class score: \"))\n",
    "\n",
    "# Determine the letter grade based on the grading scheme\n",
    "if class_score >= 90:\n",
    "    grade = 'A'\n",
    "elif class_score >= 80:\n",
    "    grade = 'B'\n",
    "elif class_score >= 70:\n",
    "    grade = 'C'\n",
    "elif class_score >= 60:\n",
    "    grade = 'D'\n",
    "else:\n",
    "    grade = 'F'\n",
    "\n",
    "# Print the letter grade\n",
    "print(\"Letter Grade:\", grade)\n"
   ]
  },
  {
   "cell_type": "code",
   "execution_count": null,
   "id": "2b4e57a7",
   "metadata": {},
   "outputs": [],
   "source": []
  }
 ],
 "metadata": {
  "kernelspec": {
   "display_name": "Python 3 (ipykernel)",
   "language": "python",
   "name": "python3"
  },
  "language_info": {
   "codemirror_mode": {
    "name": "ipython",
    "version": 3
   },
   "file_extension": ".py",
   "mimetype": "text/x-python",
   "name": "python",
   "nbconvert_exporter": "python",
   "pygments_lexer": "ipython3",
   "version": "3.11.4"
  }
 },
 "nbformat": 4,
 "nbformat_minor": 5
}
