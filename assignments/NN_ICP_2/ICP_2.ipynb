{
 "cells": [
  {
   "cell_type": "code",
   "execution_count": 1,
   "id": "a3f6368d",
   "metadata": {},
   "outputs": [
    {
     "name": "stdout",
     "output_type": "stream",
     "text": [
      "Enter your first name: Pavan\n",
      "Enter your last name: Uppala\n",
      "Full Name: Pavan Uppala\n"
     ]
    }
   ],
   "source": [
    "def fullname(first_name, last_name):\n",
    "    full_name = first_name + \" \" + last_name\n",
    "    return full_name\n",
    "\n",
    "# Get input from the user\n",
    "first_name = input(\"Enter your first name: \")\n",
    "last_name = input(\"Enter your last name: \")\n",
    "\n",
    "# Get the full name using the fullname function\n",
    "full_name = fullname(first_name, last_name)\n",
    "\n",
    "# Print the result\n",
    "print(f\"Full Name: {full_name}\")\n"
   ]
  },
  {
   "cell_type": "code",
   "execution_count": 2,
   "id": "56cc23d4",
   "metadata": {},
   "outputs": [
    {
     "name": "stdout",
     "output_type": "stream",
     "text": [
      "Enter your first name: Good\n",
      "Enter your last name: evening\n",
      "Full Name: Good evening\n",
      "Every Other Character: Go vnn\n"
     ]
    }
   ],
   "source": [
    "def fullname(first_name, last_name):\n",
    "    full_name = first_name + \" \" + last_name\n",
    "    return full_name\n",
    "\n",
    "def string_alternative(full_name):\n",
    "    return full_name[::2]\n",
    "\n",
    "# Get input from the user\n",
    "first_name = input(\"Enter your first name: \")\n",
    "last_name = input(\"Enter your last name: \")\n",
    "\n",
    "# Get the full name using the fullname function\n",
    "full_name = fullname(first_name, last_name)\n",
    "\n",
    "# Print the result\n",
    "print(f\"Full Name: {full_name}\")\n",
    "\n",
    "# Get every other character in the full name using the string_alternative function\n",
    "result = string_alternative(full_name)\n",
    "\n",
    "# Print every other character in the full name\n",
    "print(f\"Every Other Character: {result}\")"
   ]
  },
  {
   "cell_type": "code",
   "execution_count": 8,
   "id": "ae4fa92d",
   "metadata": {},
   "outputs": [
    {
     "name": "stdout",
     "output_type": "stream",
     "text": [
      "Python: 1\n",
      "Course: 2\n",
      "Deep: 1\n",
      "Learning: 1\n",
      "\n"
     ]
    }
   ],
   "source": [
    "def count_words(lines):\n",
    "    word_counts = {}\n",
    "\n",
    "    for line in lines:\n",
    "        words = line.split()\n",
    "        for word in words:\n",
    "            word_counts[word] = word_counts.get(word, 0) + 1\n",
    "\n",
    "    return word_counts\n",
    "\n",
    "def main():\n",
    "    input_filename = \"input.txt\"\n",
    "    output_filename = \"output.txt\"\n",
    "\n",
    "    with open(input_filename, \"r\") as input_file:\n",
    "        lines = input_file.readlines()\n",
    "      \n",
    "    word_count = count_words(lines)\n",
    "    \n",
    "\n",
    "    with open(output_filename, \"w\") as output_file:\n",
    "        for line in lines:\n",
    "            output_file.write(line)\n",
    "            \n",
    "        output_file.write(\"Word_Count:\" + \"\\n\")\n",
    "            \n",
    "        for word, count in word_count.items():\n",
    "            print(f\"{word}: {count}\")\n",
    "            output_file.write(f\"{word}: {count}\\n\")\n",
    "\n",
    "        print()  # Add an empty line between outputs\n",
    "        output_file.write(\"\\n\")\n",
    "\n",
    "if __name__ == \"__main__\":\n",
    "    main()\n"
   ]
  },
  {
   "cell_type": "code",
   "execution_count": 1,
   "id": "af94e633",
   "metadata": {},
   "outputs": [
    {
     "name": "stdout",
     "output_type": "stream",
     "text": [
      "Enter heights in inches separated by space: 150 155 145 148\n",
      "Heights in Centimeters (Nested Interactive Loop): [381.0, 393.7, 368.3, 375.92]\n",
      "Heights in Centimeters (List Comprehensions): [381.0, 393.7, 368.3, 375.92]\n"
     ]
    }
   ],
   "source": [
    "# 1) Nested Interactive loop\n",
    "def convert_heights_nested(heights_inches):\n",
    "    heights_centimeters = []\n",
    "    for height in heights_inches:\n",
    "        centimeters = height * 2.54\n",
    "        heights_centimeters.append(centimeters)\n",
    "    return heights_centimeters\n",
    "\n",
    "# 2) List comprehensions\n",
    "def convert_heights_list_comprehension(heights_inches):\n",
    "    return [height * 2.54 for height in heights_inches]\n",
    "\n",
    "def main():\n",
    "    # Read heights in inches from the user\n",
    "    heights_inches = [float(height) for height in input(\"Enter heights in inches separated by space: \").split()]\n",
    "\n",
    "    # Convert heights using nested interactive loop\n",
    "    heights_cm_nested = convert_heights_nested(heights_inches)\n",
    "    print(\"Heights in Centimeters (Nested Interactive Loop):\", heights_cm_nested)\n",
    "\n",
    "    # Convert heights using list comprehensions\n",
    "    heights_cm_list_comp = convert_heights_list_comprehension(heights_inches)\n",
    "    print(\"Heights in Centimeters (List Comprehensions):\", heights_cm_list_comp)\n",
    "\n",
    "if __name__ == \"__main__\":\n",
    "    main()"
   ]
  },
  {
   "cell_type": "code",
   "execution_count": null,
   "id": "1a4ea551",
   "metadata": {},
   "outputs": [],
   "source": []
  }
 ],
 "metadata": {
  "kernelspec": {
   "display_name": "Python 3 (ipykernel)",
   "language": "python",
   "name": "python3"
  },
  "language_info": {
   "codemirror_mode": {
    "name": "ipython",
    "version": 3
   },
   "file_extension": ".py",
   "mimetype": "text/x-python",
   "name": "python",
   "nbconvert_exporter": "python",
   "pygments_lexer": "ipython3",
   "version": "3.11.4"
  }
 },
 "nbformat": 4,
 "nbformat_minor": 5
}
