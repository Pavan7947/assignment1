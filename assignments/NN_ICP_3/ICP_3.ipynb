{
 "cells": [
  {
   "cell_type": "code",
   "execution_count": 1,
   "id": "addf9abc",
   "metadata": {},
   "outputs": [
    {
     "name": "stdout",
     "output_type": "stream",
     "text": [
      "Name: Amit Joshi, Family: Joshi Family, Salary: 45000, Department: IT\n",
      "Name: Sanjay Sahu, Family: Sahu Family, Salary: 55000, Department: HR\n",
      "Name: Amit Trivedi, Family: Trivedi Family, Salary: 65000, Department: Finance\n",
      "Name: Ranbir Kapoor, Family: Kapoor Family, Salary: 80000, Department: Marketing\n",
      "\n",
      "Average Salary: 61250.0\n"
     ]
    }
   ],
   "source": [
    "class Employee:\n",
    "    # Class variable to count the number of Employees\n",
    "    employee_count = 0\n",
    "    \n",
    "    def __init__(self, name, family, salary, department):\n",
    "        \"\"\"Initialize an employee instance.\"\"\"\n",
    "        self.name = name\n",
    "        self.family = family\n",
    "        self.salary = salary\n",
    "        self.department = department\n",
    "        # Incrementing the employee count\n",
    "        Employee.employee_count += 1\n",
    "    \n",
    "    def display_employee_info(self):\n",
    "        \"\"\"Display information about the employee.\"\"\"\n",
    "        print(f\"Name: {self.name}, Family: {self.family}, Salary: {self.salary}, Department: {self.department}\")\n",
    "\n",
    "    @classmethod\n",
    "    def average_salary(cls, employees):\n",
    "        \"\"\"Calculate the average salary for a list of employees.\"\"\"\n",
    "        total_salary = sum(emp.salary for emp in employees)\n",
    "        return total_salary / len(employees) if employees else 0\n",
    "\n",
    "\n",
    "class FulltimeEmployee(Employee):\n",
    "    def __init__(self, name, family, salary, department):\n",
    "        \"\"\"Initialize a full-time employee instance.\"\"\"\n",
    "        # Call the constructor of the parent class (Employee)\n",
    "        super().__init__(name, family, salary, department)\n",
    "\n",
    "\n",
    "# Creating instances of Employee class\n",
    "employee1 = Employee(\"Amit Joshi\", \"Joshi Family\", 45000, \"IT\")\n",
    "employee2 = Employee(\"Sanjay Sahu\", \"Sahu Family\", 55000, \"HR\")\n",
    "\n",
    "# Creating instances of FulltimeEmployee class\n",
    "fulltime_employee1 = FulltimeEmployee(\"Amit Trivedi\", \"Trivedi Family\", 65000, \"Finance\")\n",
    "fulltime_employee2 = FulltimeEmployee(\"Ranbir Kapoor\", \"Kapoor Family\", 80000, \"Marketing\")\n",
    "\n",
    "# Displaying employee information\n",
    "employee1.display_employee_info()\n",
    "employee2.display_employee_info()\n",
    "\n",
    "fulltime_employee1.display_employee_info()\n",
    "fulltime_employee2.display_employee_info()\n",
    "\n",
    "# Displaying average salary\n",
    "employees_list = [employee1, employee2, fulltime_employee1, fulltime_employee2]\n",
    "average_salary = Employee.average_salary(employees_list)\n",
    "print(f\"\\nAverage Salary: {average_salary}\")\n"
   ]
  },
  {
   "cell_type": "code",
   "execution_count": 2,
   "id": "da3cd828",
   "metadata": {},
   "outputs": [
    {
     "name": "stdout",
     "output_type": "stream",
     "text": [
      "Original Vector:\n",
      "[13.66488847 15.63221612  4.33167872  3.3406158   8.32463566 19.09720329\n",
      " 13.16193043  9.59443682  8.1146182   7.98125422 14.89937616  7.72422714\n",
      " 17.1871123   1.19390712  4.04821639  2.61678227 10.18742661 12.90404384\n",
      "  7.61645135  5.52357445]\n",
      "Reshaped Array:\n",
      "[[13.66488847 15.63221612  4.33167872  3.3406158   8.32463566]\n",
      " [19.09720329 13.16193043  9.59443682  8.1146182   7.98125422]\n",
      " [14.89937616  7.72422714 17.1871123   1.19390712  4.04821639]\n",
      " [ 2.61678227 10.18742661 12.90404384  7.61645135  5.52357445]]\n",
      "Replaced max in each row by 0:\n",
      "[[13.66488847  0.          4.33167872  3.3406158   8.32463566]\n",
      " [ 0.         13.16193043  9.59443682  8.1146182   7.98125422]\n",
      " [14.89937616  7.72422714  0.          1.19390712  4.04821639]\n",
      " [ 2.61678227 10.18742661  0.          7.61645135  5.52357445]]\n"
     ]
    }
   ],
   "source": [
    "import numpy as np\n",
    "\n",
    "# Create random vector of size 20\n",
    "x = np.random.uniform(1, 20, 20)  \n",
    "\n",
    "print(\"Original Vector:\")\n",
    "print(x)\n",
    "\n",
    "# Reshape to 4 by 5 \n",
    "x = x.reshape(4, 5)   \n",
    "\n",
    "print(\"Reshaped Array:\")\n",
    "print(x) \n",
    "\n",
    "# Replace max in each row by 0\n",
    "row_max = x.max(axis=1, keepdims=True)  \n",
    "x[x == row_max] = 0\n",
    "\n",
    "print(\"Replaced max in each row by 0:\") \n",
    "print(x)"
   ]
  },
  {
   "cell_type": "code",
   "execution_count": null,
   "id": "25b9c851",
   "metadata": {},
   "outputs": [],
   "source": []
  }
 ],
 "metadata": {
  "kernelspec": {
   "display_name": "Python 3 (ipykernel)",
   "language": "python",
   "name": "python3"
  },
  "language_info": {
   "codemirror_mode": {
    "name": "ipython",
    "version": 3
   },
   "file_extension": ".py",
   "mimetype": "text/x-python",
   "name": "python",
   "nbconvert_exporter": "python",
   "pygments_lexer": "ipython3",
   "version": "3.11.4"
  }
 },
 "nbformat": 4,
 "nbformat_minor": 5
}
